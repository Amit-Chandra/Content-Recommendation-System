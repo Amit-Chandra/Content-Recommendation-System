{
 "cells": [
  {
   "cell_type": "code",
   "execution_count": 2,
   "id": "6520bf82",
   "metadata": {},
   "outputs": [
    {
     "name": "stdout",
     "output_type": "stream",
     "text": [
      "Enter a YouTube video ID for recommendations: 0fStWP79Z5A\n",
      "Recommendations for video ID 0fStWP79Z5A:\n",
      "      video_id                         title  \\\n",
      "0  cvQEZJtfNDE  Saali Left College For Pizza   \n",
      "\n",
      "                                         description  \\\n",
      "0  Klaudia is here, and today Sylwia decided to m...   \n",
      "\n",
      "                                                tags  category_id  view_count  \\\n",
      "0  ['Indian', 'food vlogs', 'family vlogs', 'fami...           22        4647   \n",
      "\n",
      "   like_count  comment_count  \\\n",
      "0         763             55   \n",
      "\n",
      "                                       combined_text  \n",
      "0  Saali Left College For Pizza Klaudia is here, ...  \n"
     ]
    }
   ],
   "source": [
    "import os\n",
    "import sys\n",
    "import pandas as pd\n",
    "\n",
    "project_root = os.path.abspath(os.path.join(os.getcwd(), '..'))\n",
    "if project_root not in sys.path:\n",
    "    sys.path.append(project_root)\n",
    "\n",
    "from src.recommender import Recommender\n",
    "\n",
    "data_path = '../data/processed_videos.csv'\n",
    "df = pd.read_csv(data_path)\n",
    "\n",
    "recommender = Recommender(df)\n",
    "recommender.train_model()\n",
    "\n",
    "def get_video_id():\n",
    "    video_id = input(\"Enter a YouTube video ID for recommendations: \")\n",
    "    return video_id.strip()\n",
    "\n",
    "video_id = get_video_id() \n",
    "recommendations = recommender.get_recommendations(video_id, top_n=5)\n",
    "\n",
    "print(f\"Recommendations for video ID {video_id}:\")\n",
    "print(recommendations)\n"
   ]
  },
  {
   "cell_type": "code",
   "execution_count": null,
   "id": "567a5cdf",
   "metadata": {},
   "outputs": [],
   "source": []
  }
 ],
 "metadata": {
  "kernelspec": {
   "display_name": "Python 3 (ipykernel)",
   "language": "python",
   "name": "python3"
  },
  "language_info": {
   "codemirror_mode": {
    "name": "ipython",
    "version": 3
   },
   "file_extension": ".py",
   "mimetype": "text/x-python",
   "name": "python",
   "nbconvert_exporter": "python",
   "pygments_lexer": "ipython3",
   "version": "3.11.5"
  }
 },
 "nbformat": 4,
 "nbformat_minor": 5
}
