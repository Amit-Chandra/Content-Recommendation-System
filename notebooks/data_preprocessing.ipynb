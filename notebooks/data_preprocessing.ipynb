{
 "cells": [
  {
   "cell_type": "code",
   "execution_count": 3,
   "id": "183dd92d",
   "metadata": {},
   "outputs": [
    {
     "name": "stdout",
     "output_type": "stream",
     "text": [
      "Enter YouTube video IDs separated by commas: cvQEZJtfNDE , 0fStWP79Z5A\n",
      "Fetched Data:\n",
      "      video_id                         title  \\\n",
      "0  cvQEZJtfNDE  Saali Left College For Pizza   \n",
      "1  0fStWP79Z5A  Gryffin (DJ Set) - Kauai, HI   \n",
      "\n",
      "                                         description  \\\n",
      "0  Klaudia is here, and today Sylwia decided to m...   \n",
      "1  Listen to my new song \"Dreams\" here! https://g...   \n",
      "\n",
      "                                                tags category_id  view_count  \\\n",
      "0  [Indian, food vlogs, family vlogs, family, dai...          22        4647   \n",
      "1                                                 []          10     1267484   \n",
      "\n",
      "   like_count  comment_count  \n",
      "0         763             55  \n",
      "1       19349            843  \n",
      "Processed Data:\n",
      "      video_id                         title  \\\n",
      "0  cvQEZJtfNDE  Saali Left College For Pizza   \n",
      "1  0fStWP79Z5A  Gryffin (DJ Set) - Kauai, HI   \n",
      "\n",
      "                                         description  \\\n",
      "0  Klaudia is here, and today Sylwia decided to m...   \n",
      "1  Listen to my new song \"Dreams\" here! https://g...   \n",
      "\n",
      "                                                tags category_id  view_count  \\\n",
      "0  [Indian, food vlogs, family vlogs, family, dai...          22        4647   \n",
      "1                                                 []          10     1267484   \n",
      "\n",
      "   like_count  comment_count  \\\n",
      "0         763             55   \n",
      "1       19349            843   \n",
      "\n",
      "                                       combined_text  \n",
      "0  Saali Left College For Pizza Klaudia is here, ...  \n",
      "1  Gryffin (DJ Set) - Kauai, HI Listen to my new ...  \n",
      "Processed data saved to ../data/processed_videos.csv\n"
     ]
    }
   ],
   "source": [
    "import os\n",
    "import sys\n",
    "import pandas as pd\n",
    "\n",
    "project_root = os.path.abspath(os.path.join(os.getcwd(), '..'))\n",
    "if project_root not in sys.path:\n",
    "    sys.path.append(project_root)\n",
    "\n",
    "from src.youtube_api import YouTubeAPI\n",
    "from src.data_preprocessor import DataPreprocessor\n",
    "\n",
    "def get_video_ids():\n",
    "    video_ids = input(\"Enter YouTube video IDs separated by commas: \")\n",
    "    return [vid.strip() for vid in video_ids.split(',')]\n",
    "\n",
    "video_ids = get_video_ids()\n",
    "yt_api = YouTubeAPI()\n",
    "videos_df = yt_api.get_video_details(video_ids)\n",
    "\n",
    "print(\"Fetched Data:\")\n",
    "print(videos_df.head())\n",
    "\n",
    "preprocessor = DataPreprocessor(videos_df)\n",
    "cleaned_data = preprocessor.clean_data()\n",
    "\n",
    "feature_data = preprocessor.extract_features()\n",
    "\n",
    "print(\"Processed Data:\")\n",
    "print(feature_data.head())\n",
    "\n",
    "output_path = '../data/processed_videos.csv'\n",
    "preprocessor.save_data(output_path)\n",
    "\n",
    "print(f\"Processed data saved to {output_path}\")\n"
   ]
  },
  {
   "cell_type": "code",
   "execution_count": null,
   "id": "f72d2c23",
   "metadata": {},
   "outputs": [],
   "source": []
  }
 ],
 "metadata": {
  "kernelspec": {
   "display_name": "Python 3 (ipykernel)",
   "language": "python",
   "name": "python3"
  },
  "language_info": {
   "codemirror_mode": {
    "name": "ipython",
    "version": 3
   },
   "file_extension": ".py",
   "mimetype": "text/x-python",
   "name": "python",
   "nbconvert_exporter": "python",
   "pygments_lexer": "ipython3",
   "version": "3.11.5"
  }
 },
 "nbformat": 4,
 "nbformat_minor": 5
}
